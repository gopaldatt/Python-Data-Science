{
  "nbformat": 4,
  "nbformat_minor": 0,
  "metadata": {
    "colab": {
      "provenance": []
    },
    "kernelspec": {
      "name": "python3",
      "display_name": "Python 3"
    },
    "language_info": {
      "name": "python"
    }
  },
  "cells": [
    {
      "cell_type": "code",
      "execution_count": 2,
      "metadata": {
        "id": "PGQoznTMgf6D"
      },
      "outputs": [],
      "source": [
        "#serialization = process of converting python data types to JSON format\n",
        "#deserialization = process of converting JSON to python data typs\n",
        "\n",
        "#JSON = Javascript object notation"
      ]
    },
    {
      "cell_type": "code",
      "source": [
        "#serialization using json module\n",
        "# list\n",
        "\n",
        "import json\n",
        "l=[1,2,3,4]\n",
        "with open(\"demo.json\",\"w\") as f:\n",
        "    json.dump(l,f)"
      ],
      "metadata": {
        "id": "njwxoPcchYjq"
      },
      "execution_count": 3,
      "outputs": []
    },
    {
      "cell_type": "code",
      "source": [
        "#dict\n",
        "\n",
        "d = {\n",
        "    \"name\":\"John\",\n",
        "    \"age\":30,\n",
        "    \"city\":\"New York\"\n",
        "}\n",
        "with open(\"demo.json\",\"w\") as f:\n",
        "    json.dump(d,f,indent=4)"
      ],
      "metadata": {
        "id": "tSppSbMth8M4"
      },
      "execution_count": 4,
      "outputs": []
    },
    {
      "cell_type": "code",
      "source": [
        "#deserialization\n",
        "import json\n",
        "with open(\"demo.json\",\"r\") as f:\n",
        "    data = json.load(f)\n",
        "    print(data)\n",
        "    print(type(data))"
      ],
      "metadata": {
        "colab": {
          "base_uri": "https://localhost:8080/"
        },
        "id": "_NGtwtgBiLpY",
        "outputId": "b3ee1917-e815-43c4-d3ae-98cfbc9ffbe8"
      },
      "execution_count": 5,
      "outputs": [
        {
          "output_type": "stream",
          "name": "stdout",
          "text": [
            "{'name': 'John', 'age': 30, 'city': 'New York'}\n",
            "<class 'dict'>\n"
          ]
        }
      ]
    },
    {
      "cell_type": "code",
      "source": [
        "# serialize and deserialize tuple\n",
        "import json\n",
        "t = (1,2,3,4)\n",
        "with open(\"demo.json\",\"w\") as f:\n",
        "    json.dump(t,f)\n"
      ],
      "metadata": {
        "id": "UKZZFAWXjT3-"
      },
      "execution_count": 6,
      "outputs": []
    },
    {
      "cell_type": "code",
      "source": [
        "class Person:\n",
        "    def __init__(self,name,age,gender):\n",
        "        self.name = name\n",
        "        self.age = age\n",
        "        self.gender=gender\n",
        "person=Person(\"John\",30,\"Male\")\n",
        "with open(\"demo.json\",\"w\") as f:\n",
        "    json.dump(person.__dict__,f)"
      ],
      "metadata": {
        "id": "yZ_VqOyMkmcV"
      },
      "execution_count": 15,
      "outputs": []
    },
    {
      "cell_type": "code",
      "source": [
        "def show_object(person):\n",
        "    if insintance(person,Person):\n",
        "        return{'name ':person.name,'age':person.age,'gender':person.gender}\n",
        "\n",
        "    with open(\"demo.json\",\"w\") as f:\n",
        "        json.dump(person,f,default=show_object)"
      ],
      "metadata": {
        "id": "Y4U0BCkTlzP8"
      },
      "execution_count": 19,
      "outputs": []
    },
    {
      "cell_type": "code",
      "source": [
        "import json\n",
        "\n",
        "with open(\"demo.json\",'r') as f:\n",
        "    d = json.load(f)\n",
        "    print(d)\n",
        "    print(type(d))"
      ],
      "metadata": {
        "colab": {
          "base_uri": "https://localhost:8080/"
        },
        "id": "q5wwqcU-1GRa",
        "outputId": "3506b065-e714-4afe-fb22-45abe932b674"
      },
      "execution_count": 23,
      "outputs": [
        {
          "output_type": "stream",
          "name": "stdout",
          "text": [
            "{'name': 'John', 'age': 30, 'gender': 'Male'}\n",
            "<class 'dict'>\n"
          ]
        }
      ]
    },
    {
      "cell_type": "code",
      "source": [
        "#pickling ----> byte stream mtlb binary me convert krna\n",
        "\n",
        "class Person:\n",
        "    def __init__(self,name,age,gender):\n",
        "        self.name = name\n",
        "        self.age = age\n",
        "        self.gender=gender\n",
        "\n",
        "    def display_info(self):\n",
        "        print(f\"Name: {self.name}, Age: {self.age}, Gender: {self.gender}\")\n",
        "person=Person(\"John\",30,\"Male\")"
      ],
      "metadata": {
        "id": "XgJrznYf3Jdb"
      },
      "execution_count": 24,
      "outputs": []
    },
    {
      "cell_type": "code",
      "source": [
        "person.display_info()"
      ],
      "metadata": {
        "colab": {
          "base_uri": "https://localhost:8080/"
        },
        "id": "GHIKa0gg4m7F",
        "outputId": "f81f52cc-da44-44fd-9709-e86e896723fd"
      },
      "execution_count": 25,
      "outputs": [
        {
          "output_type": "stream",
          "name": "stdout",
          "text": [
            "Name: John, Age: 30, Gender: Male\n"
          ]
        }
      ]
    },
    {
      "cell_type": "code",
      "source": [
        "#pickle dump\n",
        "import pickle\n",
        "with open(\"demo.pkl\",'wb')as f:\n",
        "    pickle.dump(person,f)"
      ],
      "metadata": {
        "id": "4qYzKRZM4qFJ"
      },
      "execution_count": 26,
      "outputs": []
    },
    {
      "cell_type": "code",
      "source": [
        "import pickle\n",
        "with open(\"demo.pkl\",'rb')as f:\n",
        "    p = pickle.load(f)\n",
        "    p.display_info()"
      ],
      "metadata": {
        "colab": {
          "base_uri": "https://localhost:8080/"
        },
        "id": "QO-cO9Ay45_N",
        "outputId": "c35bdae5-838b-42e9-b3b0-bf961186aaec"
      },
      "execution_count": 27,
      "outputs": [
        {
          "output_type": "stream",
          "name": "stdout",
          "text": [
            "Name: John, Age: 30, Gender: Male\n"
          ]
        }
      ]
    },
    {
      "cell_type": "code",
      "source": [],
      "metadata": {
        "id": "IDm6S65e5WN3"
      },
      "execution_count": null,
      "outputs": []
    }
  ]
}