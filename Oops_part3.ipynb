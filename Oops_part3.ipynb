{
  "nbformat": 4,
  "nbformat_minor": 0,
  "metadata": {
    "colab": {
      "provenance": []
    },
    "kernelspec": {
      "name": "python3",
      "display_name": "Python 3"
    },
    "language_info": {
      "name": "python"
    }
  },
  "cells": [
    {
      "cell_type": "code",
      "execution_count": 4,
      "metadata": {
        "colab": {
          "base_uri": "https://localhost:8080/"
        },
        "id": "byTu2-TGt2VI",
        "outputId": "35fc8b9c-a045-490a-bbaa-a4b20d728029"
      },
      "outputs": [
        {
          "output_type": "stream",
          "name": "stdout",
          "text": [
            "Gopal\n",
            "Gopal\n"
          ]
        }
      ],
      "source": [
        "#del keyword    - used to delete object properties or object itself\n",
        "\n",
        "class Student:\n",
        "    def __init__(self, name):\n",
        "        self.name = name\n",
        "\n",
        "s1=Student(\"Gopal\")\n",
        "print(s1.name)\n",
        "# del s1.name\n",
        "print(s1.name)"
      ]
    },
    {
      "cell_type": "code",
      "source": [
        "class Account:\n",
        "    def __init__(self,acc_no, acc_pass):\n",
        "        self.acc_no= acc_no\n",
        "        self.__acc_pass= acc_pass\n",
        "        #print(self.__acc_pass)\n",
        "    def reset_pass(self):\n",
        "        print(self.__acc_pass)\n",
        "acc1=Account(\"4333434\", \"abcd\")\n",
        "print(acc1.acc_no)\n",
        "print(acc1.reset_pass())\n",
        "\n",
        "#print(acc1.acc_pass  ---------------> error\n",
        "\n"
      ],
      "metadata": {
        "colab": {
          "base_uri": "https://localhost:8080/"
        },
        "id": "cJ9ne3gwuVVn",
        "outputId": "acd120a1-14e1-4c6e-b8d7-f9562b518d45"
      },
      "execution_count": 10,
      "outputs": [
        {
          "output_type": "stream",
          "name": "stdout",
          "text": [
            "4333434\n",
            "abcd\n",
            "None\n"
          ]
        }
      ]
    },
    {
      "cell_type": "code",
      "source": [
        "#private(like) attributes & methods\n",
        "# conceptual implementaion in python\n",
        "# private attribues & methods are meant to be used only within the\n",
        "# class are not accessible from outside the class.\n",
        "\n"
      ],
      "metadata": {
        "id": "0DDGnv0qvRGU"
      },
      "execution_count": 11,
      "outputs": []
    },
    {
      "cell_type": "code",
      "source": [
        "class Person:\n",
        "    __name = \"annonymous\"\n",
        "\n",
        "    def __hello(self):\n",
        "        print(\"hello person\")\n",
        "    def wellcome(self):\n",
        "        self.__hello()\n",
        "\n",
        "p1= Person()\n",
        "print(p1.wellcome())"
      ],
      "metadata": {
        "colab": {
          "base_uri": "https://localhost:8080/"
        },
        "id": "isDknMV_wwHJ",
        "outputId": "30cf5f2b-f27a-44ae-e90d-7fd7e996405d"
      },
      "execution_count": 15,
      "outputs": [
        {
          "output_type": "stream",
          "name": "stdout",
          "text": [
            "hello person\n",
            "None\n"
          ]
        }
      ]
    },
    {
      "cell_type": "code",
      "source": [
        "#inheritance - when one class drives the properties or method of another class\n",
        "class Car:\n",
        "    @staticmethod\n",
        "    def start():\n",
        "        print(\"start\")\n",
        "    @staticmethod\n",
        "    def stop():\n",
        "        print(\"stop\")\n",
        "\n",
        "class ToyotaCar(Car):\n",
        "    def __init__(self,bname):\n",
        "        self.bname = bname\n",
        "\n",
        "class Fortuner(ToyotaCar):\n",
        "    def __init__(self,type):\n",
        "       self.type = type\n",
        "\n",
        "car1=Fortuner(\"diesel\")\n",
        "car1.start()\n",
        "car1.stop()\n",
        "\n"
      ],
      "metadata": {
        "colab": {
          "base_uri": "https://localhost:8080/"
        },
        "id": "C5vW1mTmxG9T",
        "outputId": "46fe4185-3591-468a-ee91-63f2ce0fea8c"
      },
      "execution_count": 20,
      "outputs": [
        {
          "output_type": "stream",
          "name": "stdout",
          "text": [
            "start\n",
            "stop\n"
          ]
        }
      ]
    },
    {
      "cell_type": "code",
      "source": [
        "#single Inheritance ---done\n",
        "#multi-level inheritance ---drive ki drive class\n",
        "# multiple inheritance\n",
        "\n",
        "class A:\n",
        "    varA= \"wellcome to calss A\"\n",
        "\n",
        "class B:\n",
        "    varB= \"Wellcome to class B\"\n",
        "\n",
        "class C(A,B):\n",
        "    varC= \"Wellcome to class C\"\n",
        "\n",
        "obj1=C()\n",
        "print(obj1.varA)\n",
        "print(obj1.varB)\n",
        "print(obj1.varC)\n",
        "\n"
      ],
      "metadata": {
        "colab": {
          "base_uri": "https://localhost:8080/"
        },
        "id": "oNfzJLYDxv9c",
        "outputId": "46385ecf-fa65-49e0-b117-c434031eb5e1"
      },
      "execution_count": 21,
      "outputs": [
        {
          "output_type": "stream",
          "name": "stdout",
          "text": [
            "wellcome to calss A\n",
            "Wellcome to class B\n",
            "Wellcome to class C\n"
          ]
        }
      ]
    },
    {
      "cell_type": "code",
      "source": [
        "#super\n",
        "\n",
        "class Car:\n",
        "    def __init__(self,type):\n",
        "        self.type=type\n",
        "\n",
        "    @staticmethod\n",
        "    def start():\n",
        "        print(\"start\")\n",
        "\n",
        "    @staticmethod\n",
        "    def stop():\n",
        "        print(\"stop\")\n",
        "\n",
        "class ToyotaCar(Car):\n",
        "    def __init__(self,name,type):\n",
        "        self.name = name\n",
        "        super().__init__(type)\n",
        "\n",
        "\n",
        "car1=ToyotaCar(\"prius\",\"electric\")\n",
        "car1.start()\n",
        "car1.stop()\n",
        "print(car1.type)\n",
        "\n",
        "\n"
      ],
      "metadata": {
        "colab": {
          "base_uri": "https://localhost:8080/"
        },
        "id": "fg6cmvaI0DRs",
        "outputId": "0f003b09-70d1-4444-e4c2-e850fd2aba8c"
      },
      "execution_count": 36,
      "outputs": [
        {
          "output_type": "stream",
          "name": "stdout",
          "text": [
            "start\n",
            "stop\n",
            "electric\n"
          ]
        }
      ]
    },
    {
      "cell_type": "code",
      "source": [],
      "metadata": {
        "id": "6asUA90S1Acc"
      },
      "execution_count": null,
      "outputs": []
    }
  ]
}