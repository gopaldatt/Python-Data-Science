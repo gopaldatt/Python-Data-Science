{
  "nbformat": 4,
  "nbformat_minor": 0,
  "metadata": {
    "colab": {
      "provenance": []
    },
    "kernelspec": {
      "name": "python3",
      "display_name": "Python 3"
    },
    "language_info": {
      "name": "python"
    }
  },
  "cells": [
    {
      "cell_type": "code",
      "execution_count": 9,
      "metadata": {
        "id": "YzZkmn_MHYYI"
      },
      "outputs": [],
      "source": [
        "class Myclass:\n",
        "    x=\"ramu\"\n",
        "    y=\"raju\""
      ]
    },
    {
      "cell_type": "code",
      "source": [
        "p1=Myclass()\n",
        "print(p1.x)"
      ],
      "metadata": {
        "colab": {
          "base_uri": "https://localhost:8080/"
        },
        "id": "9K-ig64WH73j",
        "outputId": "c6dec5d5-87a3-4026-cd93-c1a2b5b961d7"
      },
      "execution_count": 10,
      "outputs": [
        {
          "output_type": "stream",
          "name": "stdout",
          "text": [
            "ramu\n"
          ]
        }
      ]
    },
    {
      "cell_type": "code",
      "source": [
        "p2 = Myclass()\n",
        "print(p2.y)"
      ],
      "metadata": {
        "colab": {
          "base_uri": "https://localhost:8080/"
        },
        "id": "lEB7WwTTIDcV",
        "outputId": "44c50f7c-45b2-476b-f935-135bbf667536"
      },
      "execution_count": 11,
      "outputs": [
        {
          "output_type": "stream",
          "name": "stdout",
          "text": [
            "raju\n"
          ]
        }
      ]
    },
    {
      "cell_type": "code",
      "source": [
        "class Car:\n",
        "    color='blue'\n",
        "    brand='mercedes'\n",
        "c1=Car()\n",
        "print(c1.color)\n",
        "print(c1.brand)"
      ],
      "metadata": {
        "colab": {
          "base_uri": "https://localhost:8080/"
        },
        "id": "Dpop-UrFIVkl",
        "outputId": "45a1a2cb-deaa-4267-db3b-f651ee0e516c"
      },
      "execution_count": 12,
      "outputs": [
        {
          "output_type": "stream",
          "name": "stdout",
          "text": [
            "blue\n",
            "mercedes\n"
          ]
        }
      ]
    },
    {
      "cell_type": "code",
      "source": [
        "#constructor __init__\n",
        "class Student:\n",
        "    def __init__(self,name,age):\n",
        "        self.name=name\n",
        "        self.age=age\n",
        "s1=Student(\"Rahul\",20)\n",
        "print(s1.name)\n",
        "print(s1.age)\n",
        "\n"
      ],
      "metadata": {
        "colab": {
          "base_uri": "https://localhost:8080/"
        },
        "id": "Otm3Wm9AI3GO",
        "outputId": "261f5e90-c226-466c-bcf1-3af9356048b9"
      },
      "execution_count": 13,
      "outputs": [
        {
          "output_type": "stream",
          "name": "stdout",
          "text": [
            "Rahul\n",
            "20\n"
          ]
        }
      ]
    },
    {
      "cell_type": "code",
      "source": [
        "s2=Student(\"Ramesh\",21)\n",
        "print(s2.name)\n",
        "print(s2.age)"
      ],
      "metadata": {
        "colab": {
          "base_uri": "https://localhost:8080/"
        },
        "id": "4vr5oEqaJdhg",
        "outputId": "977eaed4-7775-453a-e850-d5d6288e7e8b"
      },
      "execution_count": 14,
      "outputs": [
        {
          "output_type": "stream",
          "name": "stdout",
          "text": [
            "Ramesh\n",
            "21\n"
          ]
        }
      ]
    },
    {
      "cell_type": "code",
      "source": [
        "class Car:\n",
        "    def __init__(self):\n",
        "        print(self)\n",
        "        print(\"this is default constructor in python \")\n",
        "c1=Car()\n",
        "print(c1)"
      ],
      "metadata": {
        "colab": {
          "base_uri": "https://localhost:8080/"
        },
        "id": "oO318MOFJkR5",
        "outputId": "dd7f4690-39ee-46f8-aa8b-b5ca3922cd40"
      },
      "execution_count": 19,
      "outputs": [
        {
          "output_type": "stream",
          "name": "stdout",
          "text": [
            "<__main__.Car object at 0x7bb7ce8e5390>\n",
            "this is default constructor in python \n",
            "<__main__.Car object at 0x7bb7ce8e5390>\n"
          ]
        }
      ]
    },
    {
      "cell_type": "code",
      "source": [
        "class Student:\n",
        "    college= \"Shivalik college of engineering\"\n",
        "    name = \"anonymous\"\n",
        "    def __init__(self,name):\n",
        "        self.name=name\n",
        "s1=Student(\"Rahul\")\n",
        "print(s1.name)\n",
        "print(s1.college)"
      ],
      "metadata": {
        "colab": {
          "base_uri": "https://localhost:8080/"
        },
        "id": "5F8NdzF7KPvN",
        "outputId": "cf98a4c4-348c-4a0c-efda-f5c8e55c4a7c"
      },
      "execution_count": 20,
      "outputs": [
        {
          "output_type": "stream",
          "name": "stdout",
          "text": [
            "Rahul\n",
            "Shivalik college of engineering\n"
          ]
        }
      ]
    },
    {
      "cell_type": "code",
      "source": [
        "class College:\n",
        "    department= \"conputer science and engineering\"\n",
        "    def __init__(self,name):\n",
        "        self.name=name\n",
        "\n",
        "    def wellcome(self):\n",
        "        print(\"welcome\",self.name,\"to\",self.department)\n",
        "\n",
        "    def getvalue(self):\n",
        "        return self.name,self.department\n",
        "c1=College(\"Shivalik\")\n",
        "c1.wellcome()\n",
        "print(c1.getvalue())\n",
        "c2=College(\"tula's\")\n",
        "c2.wellcome()\n",
        "print(c2.getvalue())"
      ],
      "metadata": {
        "colab": {
          "base_uri": "https://localhost:8080/"
        },
        "id": "TDa9CZOIMayD",
        "outputId": "1e0a2f66-18a9-4f0a-d936-1c3fa3bc3199"
      },
      "execution_count": 23,
      "outputs": [
        {
          "output_type": "stream",
          "name": "stdout",
          "text": [
            "welcome Shivalik to conputer science and engineering\n",
            "('Shivalik', 'conputer science and engineering')\n",
            "welcome tula's to conputer science and engineering\n",
            "(\"tula's\", 'conputer science and engineering')\n"
          ]
        }
      ]
    },
    {
      "cell_type": "code",
      "source": [
        "class Student:\n",
        "    def __init__(self, name, marks):\n",
        "        self.name=name\n",
        "        self.marks=marks\n",
        "\n",
        "    def get_avg(self):\n",
        "        sum=0\n",
        "        for val in self.marks:\n",
        "            sum += val\n",
        "        print(\"hii\",self.name,\"your avg score is : \",sum/3)\n",
        "\n",
        "s1= Student(\"Rahul\",[10,20,30])\n",
        "s1.get_avg()"
      ],
      "metadata": {
        "colab": {
          "base_uri": "https://localhost:8080/"
        },
        "id": "gVWZ5BalM-xr",
        "outputId": "a1baf217-5489-4277-cc08-b932ee5a596e"
      },
      "execution_count": 25,
      "outputs": [
        {
          "output_type": "stream",
          "name": "stdout",
          "text": [
            "hii Rahul your avg score is :  20.0\n"
          ]
        }
      ]
    },
    {
      "cell_type": "code",
      "source": [],
      "metadata": {
        "id": "Im5rzzYfPKGn"
      },
      "execution_count": null,
      "outputs": []
    }
  ]
}