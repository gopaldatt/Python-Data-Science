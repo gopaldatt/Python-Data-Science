{
  "nbformat": 4,
  "nbformat_minor": 0,
  "metadata": {
    "colab": {
      "provenance": []
    },
    "kernelspec": {
      "name": "python3",
      "display_name": "Python 3"
    },
    "language_info": {
      "name": "python"
    }
  },
  "cells": [
    {
      "cell_type": "code",
      "execution_count": 5,
      "metadata": {
        "colab": {
          "base_uri": "https://localhost:8080/"
        },
        "id": "YtjdBpwLVejT",
        "outputId": "b60ae63e-3acd-48b9-cb54-5c5bdfce711c"
      },
      "outputs": [
        {
          "output_type": "stream",
          "name": "stdout",
          "text": [
            "anonymous\n",
            "John\n",
            "John\n"
          ]
        }
      ],
      "source": [
        "class Student:\n",
        "    name =\"anonymous\"\n",
        "    def ChangeName(self,name):\n",
        "        #Student.name= name\n",
        "        self.__class__.name = name\n",
        "p1 = Student()\n",
        "print(p1.name)\n",
        "p1.ChangeName(\"John\")\n",
        "print(Student.name)\n",
        "print(p1.name)\n",
        "\n"
      ]
    },
    {
      "cell_type": "code",
      "source": [
        "class Person:\n",
        "    name=\"anonymous\"\n",
        "\n",
        "    @classmethod\n",
        "    def ChangeName(cls,name):\n",
        "        cls.name = name\n",
        "\n",
        "p1 = Person()\n",
        "print(p1.name)\n",
        "p1.ChangeName(\"John\")\n",
        "print(Person.name)\n",
        "print(p1.name)"
      ],
      "metadata": {
        "colab": {
          "base_uri": "https://localhost:8080/"
        },
        "id": "bdziHKVyWNZw",
        "outputId": "da818831-34b4-4abd-b4d6-c7490c8804a5"
      },
      "execution_count": 8,
      "outputs": [
        {
          "output_type": "stream",
          "name": "stdout",
          "text": [
            "anonymous\n",
            "John\n",
            "John\n"
          ]
        }
      ]
    },
    {
      "cell_type": "code",
      "source": [
        "class Student:\n",
        "\n",
        "    def __init__(self, phy, chem, math):\n",
        "        self.phy=phy\n",
        "        self.chem=chem\n",
        "        self.math=math\n",
        "\n",
        "        self.percentage = str((self.phy + self.chem + self.math)/3)+\" \"\n",
        "\n",
        "        # def calcPresetage(self):\n",
        "        #     self.percentage = str((self.phy + self.chem + self.math)/3)\n",
        "\n",
        "        @property\n",
        "        def percentage(slef):\n",
        "            return str((self.phy + self.chem + self.math)/3) + \" %\"\n",
        "s1= Student(45,80,70)\n",
        "print(s1.percentage)\n",
        "\n",
        "s1.phy=88\n",
        "print(s1.percentage)\n"
      ],
      "metadata": {
        "colab": {
          "base_uri": "https://localhost:8080/"
        },
        "id": "Omovs991Xfe4",
        "outputId": "b73dea15-4832-4d40-a496-7a20ffc2d01a"
      },
      "execution_count": 18,
      "outputs": [
        {
          "output_type": "stream",
          "name": "stdout",
          "text": [
            "65.0 \n",
            "65.0 \n"
          ]
        }
      ]
    },
    {
      "cell_type": "code",
      "source": [
        ""
      ],
      "metadata": {
        "id": "2rX0kMAfYsCd"
      },
      "execution_count": null,
      "outputs": []
    }
  ]
}