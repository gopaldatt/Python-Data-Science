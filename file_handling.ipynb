{
  "nbformat": 4,
  "nbformat_minor": 0,
  "metadata": {
    "colab": {
      "provenance": []
    },
    "kernelspec": {
      "name": "python3",
      "display_name": "Python 3"
    },
    "language_info": {
      "name": "python"
    }
  },
  "cells": [
    {
      "cell_type": "markdown",
      "source": [
        "### Some Theory\n",
        "\n",
        "##### Types of data used for I/O:\n",
        "- Text - '12345' as a sequence of unicode chars\n",
        "- Binary - 12345 as a sequence of bytes of its binary equivalent\n",
        "\n",
        "##### Hence there are 2 file types to deal with\n",
        "- Text files - All program files are text files\n",
        "- Binary Files - Images,music,video,exe files"
      ],
      "metadata": {
        "id": "lSNbVZA81hp2"
      }
    },
    {
      "cell_type": "markdown",
      "source": [
        "### How File I/O is done in most programming languages\n",
        "\n",
        "- Open a file\n",
        "- Read/Write data\n",
        "- Close the file"
      ],
      "metadata": {
        "id": "lYCpq5aK2Hic"
      }
    },
    {
      "cell_type": "code",
      "source": [
        "#case1 - if the file is not present\n",
        "\n",
        "f = open('sample.txt','w')\n",
        "f.write('Hello World')\n",
        "f.close()"
      ],
      "metadata": {
        "id": "Q0w4ZEpcNuA-"
      },
      "execution_count": 3,
      "outputs": []
    },
    {
      "cell_type": "code",
      "source": [
        "#since file is closed hence this will not work\n",
        "f.write('Hello World kese ho')"
      ],
      "metadata": {
        "colab": {
          "base_uri": "https://localhost:8080/",
          "height": 193
        },
        "id": "43UH39vQOG3y",
        "outputId": "59be7e45-0e17-4116-8e34-1a43a36f6788"
      },
      "execution_count": 4,
      "outputs": [
        {
          "output_type": "error",
          "ename": "ValueError",
          "evalue": "I/O operation on closed file.",
          "traceback": [
            "\u001b[0;31m---------------------------------------------------------------------------\u001b[0m",
            "\u001b[0;31mValueError\u001b[0m                                Traceback (most recent call last)",
            "\u001b[0;32m/tmp/ipython-input-4-1047834623.py\u001b[0m in \u001b[0;36m<cell line: 0>\u001b[0;34m()\u001b[0m\n\u001b[1;32m      1\u001b[0m \u001b[0;31m#since file is closed hence this will not work\u001b[0m\u001b[0;34m\u001b[0m\u001b[0;34m\u001b[0m\u001b[0m\n\u001b[0;32m----> 2\u001b[0;31m \u001b[0mf\u001b[0m\u001b[0;34m.\u001b[0m\u001b[0mwrite\u001b[0m\u001b[0;34m(\u001b[0m\u001b[0;34m'Hello World kese ho'\u001b[0m\u001b[0;34m)\u001b[0m\u001b[0;34m\u001b[0m\u001b[0;34m\u001b[0m\u001b[0m\n\u001b[0m",
            "\u001b[0;31mValueError\u001b[0m: I/O operation on closed file."
          ]
        }
      ]
    },
    {
      "cell_type": "code",
      "source": [
        "# write multine strings\n",
        "f= open(\"sample.txt\", 'w')\n",
        "f.write(\"hello world\")\n",
        "f.write(\"\\nhow are you\")\n",
        "f.close()"
      ],
      "metadata": {
        "id": "AHtb2jbhOkqT"
      },
      "execution_count": 32,
      "outputs": []
    },
    {
      "cell_type": "code",
      "source": [
        "#case2 ==> if the file is already present\n",
        "\n",
        "f=open('sample.txt','w')\n",
        "f.write('salman khan')\n",
        "f.close()"
      ],
      "metadata": {
        "id": "OKc-MxHsO9h6"
      },
      "execution_count": 33,
      "outputs": []
    },
    {
      "cell_type": "code",
      "source": [
        "#how exactly open() works???\n",
        "f=open('sample.txt','a')\n",
        "f.write('\\nI am fine')\n",
        "f.close()\n",
        "\n",
        "#write lines\n",
        "l=['\\nhello\\n','how\\n','are\\n','you']\n",
        "f=open('/content/Temp/sample.txt','a')\n",
        "f.writelines(l)\n",
        "f.close()"
      ],
      "metadata": {
        "id": "ZV-oLochPNLG"
      },
      "execution_count": 34,
      "outputs": []
    },
    {
      "cell_type": "code",
      "source": [
        "#reading from files\n",
        "\n",
        "f=open('sample.txt','r')\n",
        "data=f.read(18)\n",
        "print(data)\n",
        "f.close()"
      ],
      "metadata": {
        "colab": {
          "base_uri": "https://localhost:8080/"
        },
        "id": "zMKIYmoWQDY1",
        "outputId": "a4000993-a08e-49b9-bc0e-ca09d92e2f14"
      },
      "execution_count": 35,
      "outputs": [
        {
          "output_type": "stream",
          "name": "stdout",
          "text": [
            "salman khan\n",
            "I am f\n"
          ]
        }
      ]
    },
    {
      "cell_type": "code",
      "source": [
        "f=open('sample.txt','r')\n",
        "\n",
        "print(f.readline(),end='')\n",
        "print(f.readline(),end='')\n",
        "print(f.readline(),end='')\n",
        "f.close()"
      ],
      "metadata": {
        "colab": {
          "base_uri": "https://localhost:8080/"
        },
        "id": "5XdLouqfQuPB",
        "outputId": "668f4b22-bf56-43fe-c5d6-1fa714f83ca1"
      },
      "execution_count": 36,
      "outputs": [
        {
          "output_type": "stream",
          "name": "stdout",
          "text": [
            "salman khan\n",
            "I am fine"
          ]
        }
      ]
    },
    {
      "cell_type": "code",
      "source": [
        "f = open('sample.txt','r')\n",
        "\n",
        "while True:\n",
        "  line = f.readline()\n",
        "  if not line:\n",
        "    break\n",
        "  print(line,end='')\n",
        "f.close()"
      ],
      "metadata": {
        "colab": {
          "base_uri": "https://localhost:8080/"
        },
        "id": "OzdhR_MzRcUv",
        "outputId": "8846a7e9-74cb-4dcd-ce10-989dbfbc330f"
      },
      "execution_count": 37,
      "outputs": [
        {
          "output_type": "stream",
          "name": "stdout",
          "text": [
            "salman khan\n",
            "I am fine"
          ]
        }
      ]
    },
    {
      "cell_type": "code",
      "source": [
        "#with\n",
        "\n",
        "with open('sample.txt','a') as f:\n",
        "    f.write('\\nhello world')"
      ],
      "metadata": {
        "id": "69W63Pu9TrHn"
      },
      "execution_count": 39,
      "outputs": []
    },
    {
      "cell_type": "code",
      "source": [
        "# try f.read() now\n",
        "with open('sample.txt','r') as f:\n",
        "    print(f.read())"
      ],
      "metadata": {
        "colab": {
          "base_uri": "https://localhost:8080/"
        },
        "id": "dgmU_XGaVn9y",
        "outputId": "7172a9d1-0c61-4755-ce70-764ab4ca1098"
      },
      "execution_count": 42,
      "outputs": [
        {
          "output_type": "stream",
          "name": "stdout",
          "text": [
            "salman khan\n",
            "I am finehello world\n",
            "hello world\n"
          ]
        }
      ]
    },
    {
      "cell_type": "code",
      "source": [
        "#moving within a file ------> 10 char then 10 char\n",
        "with open('sample.txt','r') as f:\n",
        "    print(f.read(10))\n",
        "    print(f.read(10))"
      ],
      "metadata": {
        "colab": {
          "base_uri": "https://localhost:8080/"
        },
        "id": "qSXxI8PyWh13",
        "outputId": "1842947c-0d37-4d8e-ee65-1dc851895a1c"
      },
      "execution_count": 49,
      "outputs": [
        {
          "output_type": "stream",
          "name": "stdout",
          "text": [
            "salman kha\n",
            "n\n",
            "I am fin\n"
          ]
        }
      ]
    },
    {
      "cell_type": "code",
      "source": [
        "#benefir - to load a big file in memory\n",
        "\n",
        "big_L=['\\nhello world' for i in range(1000)]\n",
        "\n",
        "with open ('big_file.txt','w') as f:\n",
        "    f.writelines(big_L)"
      ],
      "metadata": {
        "id": "KTcIZVcqWvlx"
      },
      "execution_count": 51,
      "outputs": []
    },
    {
      "cell_type": "code",
      "source": [
        "with open('big_file.txt','r') as f:\n",
        "    chunk_size = 100\n",
        "    while len(f.read(chunk_size)) > 0:\n",
        "        print(f.read(chunk_size))\n",
        "        f.read(chunk_size)"
      ],
      "metadata": {
        "colab": {
          "base_uri": "https://localhost:8080/"
        },
        "id": "z0_qQzeZW5Gu",
        "outputId": "0f826d73-7287-4607-8d12-4013f7d75a48"
      },
      "execution_count": 52,
      "outputs": [
        {
          "output_type": "stream",
          "name": "stdout",
          "text": [
            "lo world\n",
            "hello world\n",
            "hello world\n",
            "hello world\n",
            "hello world\n",
            "hello world\n",
            "hello world\n",
            "hello world\n",
            "hello w\n",
            "lo world\n",
            "hello world\n",
            "hello world\n",
            "hello world\n",
            "hello world\n",
            "hello world\n",
            "hello world\n",
            "hello world\n",
            "hello w\n",
            "lo world\n",
            "hello world\n",
            "hello world\n",
            "hello world\n",
            "hello world\n",
            "hello world\n",
            "hello world\n",
            "hello world\n",
            "hello w\n",
            "lo world\n",
            "hello world\n",
            "hello world\n",
            "hello world\n",
            "hello world\n",
            "hello world\n",
            "hello world\n",
            "hello world\n",
            "hello w\n",
            "lo world\n",
            "hello world\n",
            "hello world\n",
            "hello world\n",
            "hello world\n",
            "hello world\n",
            "hello world\n",
            "hello world\n",
            "hello w\n",
            "lo world\n",
            "hello world\n",
            "hello world\n",
            "hello world\n",
            "hello world\n",
            "hello world\n",
            "hello world\n",
            "hello world\n",
            "hello w\n",
            "lo world\n",
            "hello world\n",
            "hello world\n",
            "hello world\n",
            "hello world\n",
            "hello world\n",
            "hello world\n",
            "hello world\n",
            "hello w\n",
            "lo world\n",
            "hello world\n",
            "hello world\n",
            "hello world\n",
            "hello world\n",
            "hello world\n",
            "hello world\n",
            "hello world\n",
            "hello w\n",
            "lo world\n",
            "hello world\n",
            "hello world\n",
            "hello world\n",
            "hello world\n",
            "hello world\n",
            "hello world\n",
            "hello world\n",
            "hello w\n",
            "lo world\n",
            "hello world\n",
            "hello world\n",
            "hello world\n",
            "hello world\n",
            "hello world\n",
            "hello world\n",
            "hello world\n",
            "hello w\n",
            "lo world\n",
            "hello world\n",
            "hello world\n",
            "hello world\n",
            "hello world\n",
            "hello world\n",
            "hello world\n",
            "hello world\n",
            "hello w\n",
            "lo world\n",
            "hello world\n",
            "hello world\n",
            "hello world\n",
            "hello world\n",
            "hello world\n",
            "hello world\n",
            "hello world\n",
            "hello w\n",
            "lo world\n",
            "hello world\n",
            "hello world\n",
            "hello world\n",
            "hello world\n",
            "hello world\n",
            "hello world\n",
            "hello world\n",
            "hello w\n",
            "lo world\n",
            "hello world\n",
            "hello world\n",
            "hello world\n",
            "hello world\n",
            "hello world\n",
            "hello world\n",
            "hello world\n",
            "hello w\n",
            "lo world\n",
            "hello world\n",
            "hello world\n",
            "hello world\n",
            "hello world\n",
            "hello world\n",
            "hello world\n",
            "hello world\n",
            "hello w\n",
            "lo world\n",
            "hello world\n",
            "hello world\n",
            "hello world\n",
            "hello world\n",
            "hello world\n",
            "hello world\n",
            "hello world\n",
            "hello w\n",
            "lo world\n",
            "hello world\n",
            "hello world\n",
            "hello world\n",
            "hello world\n",
            "hello world\n",
            "hello world\n",
            "hello world\n",
            "hello w\n",
            "lo world\n",
            "hello world\n",
            "hello world\n",
            "hello world\n",
            "hello world\n",
            "hello world\n",
            "hello world\n",
            "hello world\n",
            "hello w\n",
            "lo world\n",
            "hello world\n",
            "hello world\n",
            "hello world\n",
            "hello world\n",
            "hello world\n",
            "hello world\n",
            "hello world\n",
            "hello w\n",
            "lo world\n",
            "hello world\n",
            "hello world\n",
            "hello world\n",
            "hello world\n",
            "hello world\n",
            "hello world\n",
            "hello world\n",
            "hello w\n",
            "lo world\n",
            "hello world\n",
            "hello world\n",
            "hello world\n",
            "hello world\n",
            "hello world\n",
            "hello world\n",
            "hello world\n",
            "hello w\n",
            "lo world\n",
            "hello world\n",
            "hello world\n",
            "hello world\n",
            "hello world\n",
            "hello world\n",
            "hello world\n",
            "hello world\n",
            "hello w\n",
            "lo world\n",
            "hello world\n",
            "hello world\n",
            "hello world\n",
            "hello world\n",
            "hello world\n",
            "hello world\n",
            "hello world\n",
            "hello w\n",
            "lo world\n",
            "hello world\n",
            "hello world\n",
            "hello world\n",
            "hello world\n",
            "hello world\n",
            "hello world\n",
            "hello world\n",
            "hello w\n",
            "lo world\n",
            "hello world\n",
            "hello world\n",
            "hello world\n",
            "hello world\n",
            "hello world\n",
            "hello world\n",
            "hello world\n",
            "hello w\n",
            "lo world\n",
            "hello world\n",
            "hello world\n",
            "hello world\n",
            "hello world\n",
            "hello world\n",
            "hello world\n",
            "hello world\n",
            "hello w\n",
            "lo world\n",
            "hello world\n",
            "hello world\n",
            "hello world\n",
            "hello world\n",
            "hello world\n",
            "hello world\n",
            "hello world\n",
            "hello w\n",
            "lo world\n",
            "hello world\n",
            "hello world\n",
            "hello world\n",
            "hello world\n",
            "hello world\n",
            "hello world\n",
            "hello world\n",
            "hello w\n",
            "lo world\n",
            "hello world\n",
            "hello world\n",
            "hello world\n",
            "hello world\n",
            "hello world\n",
            "hello world\n",
            "hello world\n",
            "hello w\n",
            "lo world\n",
            "hello world\n",
            "hello world\n",
            "hello world\n",
            "hello world\n",
            "hello world\n",
            "hello world\n",
            "hello world\n",
            "hello w\n",
            "lo world\n",
            "hello world\n",
            "hello world\n",
            "hello world\n",
            "hello world\n",
            "hello world\n",
            "hello world\n",
            "hello world\n",
            "hello w\n",
            "lo world\n",
            "hello world\n",
            "hello world\n",
            "hello world\n",
            "hello world\n",
            "hello world\n",
            "hello world\n",
            "hello world\n",
            "hello w\n",
            "lo world\n",
            "hello world\n",
            "hello world\n",
            "hello world\n",
            "hello world\n",
            "hello world\n",
            "hello world\n",
            "hello world\n",
            "hello w\n",
            "lo world\n",
            "hello world\n",
            "hello world\n",
            "hello world\n",
            "hello world\n",
            "hello world\n",
            "hello world\n",
            "hello world\n",
            "hello w\n",
            "lo world\n",
            "hello world\n",
            "hello world\n",
            "hello world\n",
            "hello world\n",
            "hello world\n",
            "hello world\n",
            "hello world\n",
            "hello w\n",
            "lo world\n",
            "hello world\n",
            "hello world\n",
            "hello world\n",
            "hello world\n",
            "hello world\n",
            "hello world\n",
            "hello world\n",
            "hello w\n",
            "lo world\n",
            "hello world\n",
            "hello world\n",
            "hello world\n",
            "hello world\n",
            "hello world\n",
            "hello world\n",
            "hello world\n",
            "hello w\n",
            "lo world\n",
            "hello world\n",
            "hello world\n",
            "hello world\n",
            "hello world\n",
            "hello world\n",
            "hello world\n",
            "hello world\n",
            "hello w\n",
            "lo world\n",
            "hello world\n",
            "hello world\n",
            "hello world\n",
            "hello world\n",
            "hello world\n",
            "hello world\n",
            "hello world\n",
            "hello w\n",
            "lo world\n",
            "hello world\n",
            "hello world\n",
            "hello world\n",
            "hello world\n",
            "hello world\n",
            "hello world\n",
            "hello world\n",
            "hello w\n"
          ]
        }
      ]
    },
    {
      "cell_type": "code",
      "source": [
        "#seek and tell function\n",
        "\n",
        "with open('sample.txt','r') as f:\n",
        "    print(f.tell())\n",
        "    print(f.read(10))\n",
        "    print(f.tell())\n",
        "    f.seek(0)\n",
        "    print(f.read(10))\n",
        "    print(f.tell())"
      ],
      "metadata": {
        "colab": {
          "base_uri": "https://localhost:8080/"
        },
        "id": "RLnlgrQmYM9c",
        "outputId": "450126fb-e11d-498d-9c87-85edf8b02604"
      },
      "execution_count": 62,
      "outputs": [
        {
          "output_type": "stream",
          "name": "stdout",
          "text": [
            "0\n",
            "salman kha\n",
            "10\n",
            "salman kha\n",
            "10\n"
          ]
        }
      ]
    },
    {
      "cell_type": "markdown",
      "source": [],
      "metadata": {
        "id": "ZtNhs8R8cZNn"
      }
    },
    {
      "cell_type": "code",
      "source": [
        "#tell ----> kaha pr currently ho\n",
        "#seek -----> kaha pr jana hai\n"
      ],
      "metadata": {
        "id": "UzBkhY3bZNoW"
      },
      "execution_count": 68,
      "outputs": []
    },
    {
      "cell_type": "code",
      "source": [
        "#seek during write\n",
        "\n",
        "with open('sample.txt','w') as f:\n",
        "    f.write('hello world')\n",
        "    print(f.tell())\n",
        "    f.seek(0)\n",
        "    f.write('XXXXmmm')"
      ],
      "metadata": {
        "colab": {
          "base_uri": "https://localhost:8080/"
        },
        "id": "-uUQdXfVZV34",
        "outputId": "e3feffe8-3241-4727-d2f2-d1209b1bde95"
      },
      "execution_count": 69,
      "outputs": [
        {
          "output_type": "stream",
          "name": "stdout",
          "text": [
            "11\n"
          ]
        }
      ]
    },
    {
      "cell_type": "code",
      "source": [
        "# working with binary file\n",
        "with open(\"/content/ChatGPT Image Mar 30, 2025, 08_10_18 PM.png\",'rb')as f:\n",
        "    with open('screenshot.png' , 'wb') as f1:\n",
        "        f1.write(f.read())\n"
      ],
      "metadata": {
        "id": "TCgS9o9Oaj-K"
      },
      "execution_count": 70,
      "outputs": []
    },
    {
      "cell_type": "code",
      "source": [
        "#working with other data types\n",
        "with open('smaple.txt','w') as f:\n",
        "    f.write(\"4\")\n",
        "    #f.write(5)--------------- error\n",
        "with open('smaple.txt','r') as f1:\n",
        "        print(f1.read())"
      ],
      "metadata": {
        "colab": {
          "base_uri": "https://localhost:8080/"
        },
        "id": "uhAerJpJbrue",
        "outputId": "d4cf8f0a-e075-4da6-ed13-fea56d6da155"
      },
      "execution_count": 73,
      "outputs": [
        {
          "output_type": "stream",
          "name": "stdout",
          "text": [
            "4\n"
          ]
        }
      ]
    },
    {
      "cell_type": "code",
      "source": [
        "d = {\n",
        "    'name':'nitish',\n",
        "    'marks':90,\n",
        "    'subjects':['eng','math','sci']\n",
        "}\n",
        "\n",
        "with open ('sample.txt','w') as f:\n",
        "    f.write(str(d))"
      ],
      "metadata": {
        "id": "li77paD3dKmB"
      },
      "execution_count": 76,
      "outputs": []
    },
    {
      "cell_type": "code",
      "source": [
        "\n",
        "with open ('sample.txt','r') as f:\n",
        "    print(f.read())\n",
        ""
      ],
      "metadata": {
        "colab": {
          "base_uri": "https://localhost:8080/"
        },
        "id": "3pwB1qRwdpx5",
        "outputId": "3c489ef6-4ce4-49c1-ae62-63bc33784d75"
      },
      "execution_count": 79,
      "outputs": [
        {
          "output_type": "stream",
          "name": "stdout",
          "text": [
            "{'name': 'nitish', 'marks': 90, 'subjects': ['eng', 'math', 'sci']}\n"
          ]
        }
      ]
    },
    {
      "cell_type": "code",
      "source": [],
      "metadata": {
        "id": "F5tAeLqGeIHQ"
      },
      "execution_count": null,
      "outputs": []
    }
  ]
}