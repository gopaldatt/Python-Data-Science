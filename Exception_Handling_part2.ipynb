{
  "nbformat": 4,
  "nbformat_minor": 0,
  "metadata": {
    "colab": {
      "provenance": []
    },
    "kernelspec": {
      "name": "python3",
      "display_name": "Python 3"
    },
    "language_info": {
      "name": "python"
    }
  },
  "cells": [
    {
      "cell_type": "code",
      "execution_count": 3,
      "metadata": {
        "colab": {
          "base_uri": "https://localhost:8080/"
        },
        "id": "aW393YK1ikRJ",
        "outputId": "c32d319e-d798-4685-b649-1144d90c2902"
      },
      "outputs": [
        {
          "output_type": "stream",
          "name": "stdout",
          "text": [
            "File nhi mili\n"
          ]
        }
      ],
      "source": [
        "#else\n",
        "try:\n",
        "    f=open('sample.txt', 'r')\n",
        "except FileNotFoundError:\n",
        "    print('File nhi mili')\n",
        "except Exception:\n",
        "    print('kuch to gadbad ho raha hai')\n",
        "else:\n",
        "    print(f.read())"
      ]
    },
    {
      "cell_type": "code",
      "source": [
        "with open('sample.txt', 'w') as f:\n",
        "    print(f.write(\"hello world\"))"
      ],
      "metadata": {
        "colab": {
          "base_uri": "https://localhost:8080/"
        },
        "id": "V97P1mUzTufK",
        "outputId": "94464030-3921-41cb-c1c7-1e8a5ff27d6c"
      },
      "execution_count": 6,
      "outputs": [
        {
          "output_type": "stream",
          "name": "stdout",
          "text": [
            "11\n"
          ]
        }
      ]
    },
    {
      "cell_type": "code",
      "source": [
        "with open(\"sample.txt\",'r') as f:\n",
        "    print(f.read())"
      ],
      "metadata": {
        "colab": {
          "base_uri": "https://localhost:8080/"
        },
        "id": "vQ2c6HZNUZmm",
        "outputId": "70828e27-d639-4644-bb74-dac93e054b57"
      },
      "execution_count": 7,
      "outputs": [
        {
          "output_type": "stream",
          "name": "stdout",
          "text": [
            "hello world\n"
          ]
        }
      ]
    },
    {
      "cell_type": "code",
      "source": [
        "#finally\n",
        "\n",
        "try:\n",
        "    f=open('sample.txt')\n",
        "except FileNotFoundError:\n",
        "    print('File nhi mili')\n",
        "else:\n",
        "    print(f.read())\n",
        "finally:\n",
        "    print('ye to print hoga hi')"
      ],
      "metadata": {
        "colab": {
          "base_uri": "https://localhost:8080/"
        },
        "id": "kf2nv3vXUgxm",
        "outputId": "e07fbde0-fd3e-477c-f385-4ab48ecbd5ca"
      },
      "execution_count": 11,
      "outputs": [
        {
          "output_type": "stream",
          "name": "stdout",
          "text": [
            "hello world\n",
            "ye to print hoga hi\n"
          ]
        }
      ]
    },
    {
      "cell_type": "code",
      "source": [
        "#raise Exception\n",
        "# in python programming , exception are raised when errors occur at runtime\n",
        "#we can also manually raise exception using the raise keyword\n",
        "#we can optionally pass values to the exception to clarify why that exception was raised\n"
      ],
      "metadata": {
        "id": "DyTuOP8mVGIh"
      },
      "execution_count": 12,
      "outputs": []
    },
    {
      "cell_type": "code",
      "source": [
        "raise NameError('hi there')"
      ],
      "metadata": {
        "colab": {
          "base_uri": "https://localhost:8080/",
          "height": 141
        },
        "id": "Lnl4-7oIW1cz",
        "outputId": "c726aad1-f26c-41e4-ada1-8a759a5f03d9"
      },
      "execution_count": 14,
      "outputs": [
        {
          "output_type": "error",
          "ename": "NameError",
          "evalue": "hi there",
          "traceback": [
            "\u001b[0;31m---------------------------------------------------------------------------\u001b[0m",
            "\u001b[0;31mNameError\u001b[0m                                 Traceback (most recent call last)",
            "\u001b[0;32m/tmp/ipython-input-14-330223053.py\u001b[0m in \u001b[0;36m<cell line: 0>\u001b[0;34m()\u001b[0m\n\u001b[0;32m----> 1\u001b[0;31m \u001b[0;32mraise\u001b[0m \u001b[0mNameError\u001b[0m\u001b[0;34m(\u001b[0m\u001b[0;34m'hi there'\u001b[0m\u001b[0;34m)\u001b[0m\u001b[0;34m\u001b[0m\u001b[0;34m\u001b[0m\u001b[0m\n\u001b[0m",
            "\u001b[0;31mNameError\u001b[0m: hi there"
          ]
        }
      ]
    },
    {
      "cell_type": "code",
      "source": [
        "raise FileNotFoundError(\"file nhi mili yr bhai\")"
      ],
      "metadata": {
        "colab": {
          "base_uri": "https://localhost:8080/",
          "height": 141
        },
        "id": "gC3socoqW9VM",
        "outputId": "029d2fb8-3e9d-46e0-eed0-6878a06ea201"
      },
      "execution_count": 15,
      "outputs": [
        {
          "output_type": "error",
          "ename": "FileNotFoundError",
          "evalue": "file nhi mili yr bhai",
          "traceback": [
            "\u001b[0;31m---------------------------------------------------------------------------\u001b[0m",
            "\u001b[0;31mFileNotFoundError\u001b[0m                         Traceback (most recent call last)",
            "\u001b[0;32m/tmp/ipython-input-15-4103231437.py\u001b[0m in \u001b[0;36m<cell line: 0>\u001b[0;34m()\u001b[0m\n\u001b[0;32m----> 1\u001b[0;31m \u001b[0;32mraise\u001b[0m \u001b[0mFileNotFoundError\u001b[0m\u001b[0;34m(\u001b[0m\u001b[0;34m\"file nhi mili yr bhai\"\u001b[0m\u001b[0;34m)\u001b[0m\u001b[0;34m\u001b[0m\u001b[0;34m\u001b[0m\u001b[0m\n\u001b[0m",
            "\u001b[0;31mFileNotFoundError\u001b[0m: file nhi mili yr bhai"
          ]
        }
      ]
    },
    {
      "cell_type": "code",
      "source": [
        " # java\n",
        " #try -->try\n",
        " #except--> catch\n",
        " #raise --->throw\n",
        "\n",
        ""
      ],
      "metadata": {
        "id": "CAGe5hqtXIkY"
      },
      "execution_count": 16,
      "outputs": []
    },
    {
      "cell_type": "code",
      "source": [
        "class Bank:\n",
        "\n",
        "    def __init__(self, balance):\n",
        "        self.balance = balance\n",
        "\n",
        "    def withdraw(self, amount):\n",
        "        if amount <0:\n",
        "            raise Exception(\"Invalid amount\")\n",
        "        if self.balance < amount:\n",
        "            raise Exception(\"Insufficient balance\")\n",
        "        self.balance = self.balance= amount\n",
        "\n",
        "obj = Bank(1000)\n",
        "try:\n",
        "    obj.withdraw(00)\n",
        "except Exception as e:\n",
        "    print(e)\n",
        "else:\n",
        "    print(obj.balance)\n"
      ],
      "metadata": {
        "colab": {
          "base_uri": "https://localhost:8080/"
        },
        "id": "H4SVkZzoXqFW",
        "outputId": "ce9f5b4e-7406-4505-a5b5-5da440021d58"
      },
      "execution_count": 23,
      "outputs": [
        {
          "output_type": "stream",
          "name": "stdout",
          "text": [
            "0\n"
          ]
        }
      ]
    },
    {
      "cell_type": "code",
      "source": [
        "class MyException(Exception):\n",
        "    def __init__(self, message):\n",
        "        print(message)\n",
        "\n",
        "class Bank:\n",
        "\n",
        "    def __init__(self, balance):\n",
        "        self.balance = balance\n",
        "\n",
        "    def withdraw(self, amount):\n",
        "        if amount <0:\n",
        "            raise MyException(\"Invalid amount\")\n",
        "        if self.balance < amount:\n",
        "            raise MyException(\"Insufficient balance\")\n",
        "        self.balance = self.balance= amount\n",
        "\n",
        "obj = Bank(1000)\n",
        "try:\n",
        "    obj.withdraw(-22)\n",
        "except MyException as e:\n",
        "    pass\n",
        "else:\n",
        "    print(obj.balance)\n"
      ],
      "metadata": {
        "colab": {
          "base_uri": "https://localhost:8080/"
        },
        "id": "bwLxQNOVX45P",
        "outputId": "ecdf460d-75cc-4269-dc44-5aadc8fe3399"
      },
      "execution_count": 27,
      "outputs": [
        {
          "output_type": "stream",
          "name": "stdout",
          "text": [
            "Invalid amount\n"
          ]
        }
      ]
    },
    {
      "cell_type": "code",
      "source": [
        "class SecurityError(Exception):\n",
        "    def __init__(self, message):\n",
        "        print(message)\n",
        "    def logout(self):\n",
        "        print(\"logout\")\n",
        "class Google:\n",
        "\n",
        "    def __init__(self, name,email,password,device):\n",
        "        self.name = name\n",
        "        self.email = email\n",
        "        self.password = password\n",
        "        self.device = device\n",
        "\n",
        "    def login(self,email,password , device):\n",
        "        if device != self.device:\n",
        "            raise SecurityError(\"bhai tere to lg gyi\")\n",
        "        if email == self.email and password == self.password:\n",
        "            print(\"wellcome\")\n",
        "        else:\n",
        "            print('Login error')\n",
        "\n",
        "\n",
        "obj = Google('gopla', 'gopal@123', '43343','android')\n",
        "\n",
        "try:\n",
        "    obj.login('gopal@123', '43343', 'aoid')\n",
        "except SecurityError as e:\n",
        "    e.logout()\n",
        "\n",
        "else:\n",
        "    print(obj.name)\n",
        "finally:\n",
        "    print(\"database connection close\")"
      ],
      "metadata": {
        "colab": {
          "base_uri": "https://localhost:8080/"
        },
        "id": "-i2orY1raGRR",
        "outputId": "fdb9c804-87d2-481f-a2e3-d6d2d21a7374"
      },
      "execution_count": 33,
      "outputs": [
        {
          "output_type": "stream",
          "name": "stdout",
          "text": [
            "bhai tere to lg gyi\n",
            "logout\n",
            "database connection close\n"
          ]
        }
      ]
    },
    {
      "cell_type": "code",
      "source": [
        ""
      ],
      "metadata": {
        "id": "d98GOZrbbQmU"
      },
      "execution_count": null,
      "outputs": []
    }
  ]
}