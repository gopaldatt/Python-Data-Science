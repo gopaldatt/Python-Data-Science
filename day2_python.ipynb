{
  "nbformat": 4,
  "nbformat_minor": 0,
  "metadata": {
    "colab": {
      "provenance": []
    },
    "kernelspec": {
      "name": "python3",
      "display_name": "Python 3"
    },
    "language_info": {
      "name": "python"
    }
  },
  "cells": [
    {
      "cell_type": "code",
      "metadata": {
        "colab": {
          "base_uri": "https://localhost:8080/"
        },
        "id": "433001f4",
        "outputId": "291b5ccf-5b04-46e5-bf39-20dcc8e1164f"
      },
      "source": [
        "# Arithmetic Operators\n",
        "a = 10\n",
        "b = 5\n",
        "print(\"Arithmetic Operators:\")\n",
        "print(\"a + b =\", a + b)\n",
        "print(\"a - b =\", a - b)\n",
        "print(\"a * b =\", a * b)\n",
        "print(\"a / b =\", a / b)\n",
        "print(\"a % b =\", a % b)\n",
        "print(\"a // b =\", a // b)\n",
        "print(\"a ** b =\", a ** b)"
      ],
      "execution_count": null,
      "outputs": [
        {
          "output_type": "stream",
          "name": "stdout",
          "text": [
            "Arithmetic Operators:\n",
            "a + b = 15\n",
            "a - b = 5\n",
            "a * b = 50\n",
            "a / b = 2.0\n",
            "a % b = 0\n",
            "a // b = 2\n",
            "a ** b = 100000\n"
          ]
        }
      ]
    },
    {
      "cell_type": "code",
      "metadata": {
        "colab": {
          "base_uri": "https://localhost:8080/"
        },
        "id": "ce1aaa43",
        "outputId": "603d8440-caba-4ce2-89af-24445864cdc8"
      },
      "source": [
        "# Comparison Operators\n",
        "x = 10\n",
        "y = 12\n",
        "print(\"\\nComparison Operators:\")\n",
        "print(\"x == y:\", x == y)\n",
        "print(\"x != y:\", x != y)\n",
        "print(\"x > y:\", x > y)\n",
        "print(\"x < y:\", x < y)\n",
        "print(\"x >= y:\", x >= y)\n",
        "print(\"x <= y:\", x <= y)"
      ],
      "execution_count": null,
      "outputs": [
        {
          "output_type": "stream",
          "name": "stdout",
          "text": [
            "\n",
            "Comparison Operators:\n",
            "x == y: False\n",
            "x != y: True\n",
            "x > y: False\n",
            "x < y: True\n",
            "x >= y: False\n",
            "x <= y: True\n"
          ]
        }
      ]
    },
    {
      "cell_type": "code",
      "metadata": {
        "colab": {
          "base_uri": "https://localhost:8080/"
        },
        "id": "b62403a9",
        "outputId": "4b565ace-febe-4883-c2fd-806f55db7f2e"
      },
      "source": [
        "# Logical Operators\n",
        "p = True\n",
        "q = False\n",
        "print(\"\\nLogical Operators:\")\n",
        "print(\"p and q:\", p and q)\n",
        "print(\"p or q:\", p or q)\n",
        "print(\"not p:\", not p)"
      ],
      "execution_count": null,
      "outputs": [
        {
          "output_type": "stream",
          "name": "stdout",
          "text": [
            "\n",
            "Logical Operators:\n",
            "p and q: False\n",
            "p or q: True\n",
            "not p: False\n"
          ]
        }
      ]
    },
    {
      "cell_type": "code",
      "metadata": {
        "colab": {
          "base_uri": "https://localhost:8080/"
        },
        "id": "a5e52b1a",
        "outputId": "63a7ba22-610e-45bd-a634-a38b0258e902"
      },
      "source": [
        "# Assignment Operators\n",
        "c = 10\n",
        "print(\"\\nAssignment Operators:\")\n",
        "c += 5\n",
        "print(\"c += 5:\", c)\n",
        "c -= 3\n",
        "print(\"c -= 3:\", c)\n",
        "c *= 2\n",
        "print(\"c *= 2:\", c)"
      ],
      "execution_count": null,
      "outputs": [
        {
          "output_type": "stream",
          "name": "stdout",
          "text": [
            "\n",
            "Assignment Operators:\n",
            "c += 5: 15\n",
            "c -= 3: 12\n",
            "c *= 2: 24\n"
          ]
        }
      ]
    },
    {
      "cell_type": "code",
      "metadata": {
        "colab": {
          "base_uri": "https://localhost:8080/"
        },
        "id": "33a32ac3",
        "outputId": "3eb3eeb3-246a-4a45-c622-bf7ff02ed704"
      },
      "source": [
        "# Identity Operators\n",
        "list1 = [1, 2, 3]\n",
        "list2 = [1, 2, 3]\n",
        "list3 = list1\n",
        "print(\"\\nIdentity Operators:\")\n",
        "print(\"list1 is list2:\", list1 is list2)\n",
        "print(\"list1 is list3:\", list1 is list3)\n",
        "print(\"list1 is not list2:\", list1 is not list2)"
      ],
      "execution_count": null,
      "outputs": [
        {
          "output_type": "stream",
          "name": "stdout",
          "text": [
            "\n",
            "Identity Operators:\n",
            "list1 is list2: False\n",
            "list1 is list3: True\n",
            "list1 is not list2: True\n"
          ]
        }
      ]
    },
    {
      "cell_type": "code",
      "metadata": {
        "colab": {
          "base_uri": "https://localhost:8080/"
        },
        "id": "5d6611b9",
        "outputId": "0f10e06a-b7f3-4bf3-c4e8-b49b22864697"
      },
      "source": [
        "# Membership Operators\n",
        "my_list = [1, 2, 3, 4, 5]\n",
        "print(\"\\nMembership Operators:\")\n",
        "print(\"3 in my_list:\", 3 in my_list)\n",
        "print(\"6 in my_list:\", 6 in my_list)\n",
        "print(\"3 not in my_list:\", 3 not in my_list)"
      ],
      "execution_count": null,
      "outputs": [
        {
          "output_type": "stream",
          "name": "stdout",
          "text": [
            "\n",
            "Membership Operators:\n",
            "3 in my_list: True\n",
            "6 in my_list: False\n",
            "3 not in my_list: False\n"
          ]
        }
      ]
    },
    {
      "cell_type": "code",
      "metadata": {
        "colab": {
          "base_uri": "https://localhost:8080/"
        },
        "id": "0f98fb4c",
        "outputId": "df2b8b10-8787-435e-de79-347e5e045e8b"
      },
      "source": [
        "# Bitwise Operators\n",
        "num1 = 10 # Binary: 1010\n",
        "num2 = 4  # Binary: 0100\n",
        "print(\"\\nBitwise Operators:\")\n",
        "print(\"num1 & num2:\", num1 & num2)\n",
        "print(\"num1 | num2:\", num1 | num2)\n",
        "print(\"num1 ^ num2:\", num1 ^ num2)\n",
        "print(\"~num1:\", ~num1)\n",
        "print(\"num1 << 2:\", num1 << 2)\n",
        "print(\"num1 >> 2:\", num1 >> 2)"
      ],
      "execution_count": null,
      "outputs": [
        {
          "output_type": "stream",
          "name": "stdout",
          "text": [
            "\n",
            "Bitwise Operators:\n",
            "num1 & num2: 0\n",
            "num1 | num2: 14\n",
            "num1 ^ num2: 14\n",
            "~num1: -11\n",
            "num1 << 2: 40\n",
            "num1 >> 2: 2\n"
          ]
        }
      ]
    },
    {
      "cell_type": "code",
      "source": [
        "print(2&3)"
      ],
      "metadata": {
        "colab": {
          "base_uri": "https://localhost:8080/"
        },
        "id": "-Zgs0Nw1VDCf",
        "outputId": "674a8689-32a3-42ad-b037-c28e0ff45226"
      },
      "execution_count": null,
      "outputs": [
        {
          "output_type": "stream",
          "name": "stdout",
          "text": [
            "2\n"
          ]
        }
      ]
    },
    {
      "cell_type": "code",
      "source": [
        "print(5&7) #bitwise and"
      ],
      "metadata": {
        "colab": {
          "base_uri": "https://localhost:8080/"
        },
        "id": "BCT71sQKVV8n",
        "outputId": "2892bf89-8f8a-4a17-d38b-4edc0af00e73"
      },
      "execution_count": null,
      "outputs": [
        {
          "output_type": "stream",
          "name": "stdout",
          "text": [
            "5\n"
          ]
        }
      ]
    },
    {
      "cell_type": "code",
      "source": [
        "print(5|7) #or"
      ],
      "metadata": {
        "colab": {
          "base_uri": "https://localhost:8080/"
        },
        "id": "Fe5RSdKGVfNA",
        "outputId": "3d77bc21-6540-46da-fa7a-0c6c38900f07"
      },
      "execution_count": null,
      "outputs": [
        {
          "output_type": "stream",
          "name": "stdout",
          "text": [
            "7\n"
          ]
        }
      ]
    },
    {
      "cell_type": "code",
      "source": [
        "print(2^3)"
      ],
      "metadata": {
        "colab": {
          "base_uri": "https://localhost:8080/"
        },
        "id": "moBY3e2rVk82",
        "outputId": "4f8cbf6e-14c7-4558-eef2-c36fc6f0b468"
      },
      "execution_count": null,
      "outputs": [
        {
          "output_type": "stream",
          "name": "stdout",
          "text": [
            "1\n"
          ]
        }
      ]
    },
    {
      "cell_type": "code",
      "source": [
        "#Assignment operators\n",
        "a=3"
      ],
      "metadata": {
        "id": "6GJjKuimVwPy"
      },
      "execution_count": null,
      "outputs": []
    },
    {
      "cell_type": "code",
      "source": [
        " #a +=4\n",
        " print(a)"
      ],
      "metadata": {
        "colab": {
          "base_uri": "https://localhost:8080/"
        },
        "id": "rPzwmDEfW4m5",
        "outputId": "03b27719-3c17-447b-f090-791af804352a"
      },
      "execution_count": null,
      "outputs": [
        {
          "output_type": "stream",
          "name": "stdout",
          "text": [
            "3\n"
          ]
        }
      ]
    },
    {
      "cell_type": "code",
      "source": [
        "#a++ a-- not use in python\n"
      ],
      "metadata": {
        "id": "cpmBgDqrW9km"
      },
      "execution_count": null,
      "outputs": []
    },
    {
      "cell_type": "code",
      "source": [
        "#membership Operators\n",
        "print ('D'  not in 'Delhi')\n"
      ],
      "metadata": {
        "colab": {
          "base_uri": "https://localhost:8080/"
        },
        "id": "22PWMGQ3XwCC",
        "outputId": "665f66eb-cc16-44a4-fcd0-237a0230f606"
      },
      "execution_count": null,
      "outputs": [
        {
          "output_type": "stream",
          "name": "stdout",
          "text": [
            "False\n"
          ]
        }
      ]
    },
    {
      "cell_type": "code",
      "source": [
        "print('D' in 'Delhi')"
      ],
      "metadata": {
        "colab": {
          "base_uri": "https://localhost:8080/"
        },
        "id": "cbH1k08TX7lS",
        "outputId": "9203862c-9e2f-4003-e9a3-0442893f0b1a"
      },
      "execution_count": null,
      "outputs": [
        {
          "output_type": "stream",
          "name": "stdout",
          "text": [
            "True\n"
          ]
        }
      ]
    },
    {
      "cell_type": "code",
      "source": [
        " # program - find the sum of 3 digit number enterd ny the user\n",
        " number =int(input(\"Enter a 3 digit number\"))\n",
        "\n",
        " #343%3 = 3\n",
        " a=number%10 #3\n",
        "\n",
        " number=number//10\n",
        "\n",
        " b=number%10  #34%10= 4\n",
        "\n",
        " number=number//10\n",
        "\n",
        " #3%10 = 3\n",
        " c=number%10\n",
        "\n",
        " print(a+b+c)"
      ],
      "metadata": {
        "colab": {
          "base_uri": "https://localhost:8080/"
        },
        "id": "NuY0gXvxYGUr",
        "outputId": "31977504-6a0a-40b7-c942-467352d91f49"
      },
      "execution_count": null,
      "outputs": [
        {
          "output_type": "stream",
          "name": "stdout",
          "text": [
            "Enter a 3 digit number345\n",
            "12\n"
          ]
        }
      ]
    },
    {
      "cell_type": "code",
      "source": [
        "#if else in python\n",
        "\n",
        "name = input(\"Enter your name = \")\n",
        "email= input(\"Enter your email = \")\n",
        "password = int(input(\"Enter your password\"))\n",
        "\n",
        "if password==1234 and email== \"ramesh@gmail.com\":\n",
        "    print(\"wellcome\")\n",
        "else:\n",
        "    print(\"wrong password\")"
      ],
      "metadata": {
        "id": "2kaqPhBIZKa1",
        "colab": {
          "base_uri": "https://localhost:8080/"
        },
        "outputId": "de5d7619-4bfa-4665-c7d6-7177b0eb2046"
      },
      "execution_count": 4,
      "outputs": [
        {
          "output_type": "stream",
          "name": "stdout",
          "text": [
            "Enter your name = kalu\n",
            "Enter your email = ka\n",
            "Enter your password1234\n",
            "wrong password\n"
          ]
        }
      ]
    },
    {
      "cell_type": "code",
      "source": [
        "#elif statement in python\n",
        "\n",
        "name = input(\"Enter your name = \")\n",
        "email= input(\"Enter your email = \")\n",
        "password = int(input(\"Enter your password\"))\n",
        "\n",
        "if password==1234 and email== \"ramesh@gmail.com\":\n",
        "    print(\"wellcome\")\n",
        "elif password==1234 and email== \"ramesh@gmail.com\":\n",
        "    print(\"email wrong\")\n",
        "elif password !=1234 and email== \"ramesh@gmail.com\":\n",
        "    print(\"password wrong\")\n",
        "    password = input(\"Renter password = \")\n",
        "    if password=='1234':\n",
        "        print(\"wellcome\")\n",
        "else:\n",
        "    print(\"wrong password\")"
      ],
      "metadata": {
        "colab": {
          "base_uri": "https://localhost:8080/"
        },
        "id": "JQV2AEkHYn9_",
        "outputId": "85a6f9b3-e6f4-4224-f215-250953dba8c5"
      },
      "execution_count": 7,
      "outputs": [
        {
          "output_type": "stream",
          "name": "stdout",
          "text": [
            "Enter your name = ramesh\n",
            "Enter your email = ramesh@gmail.com\n",
            "Enter your password12\n",
            "password wrong\n",
            "Renter password = 1234\n",
            "wellcome\n"
          ]
        }
      ]
    },
    {
      "cell_type": "code",
      "source": [
        "#min of three numbers\n",
        "a =int(input(\"Enter first number\"))\n",
        "b =int(input(\"Enter second number\"))\n",
        "c =int(input(\"Enter third number\"))\n",
        "\n",
        "if(a<b and a<c):\n",
        "    print(a,\"is minimum\")\n",
        "elif(b<a and b<c):\n",
        "    print(b,\"is minimum\")\n",
        "else:\n",
        "    print(c,\"is minimum\")"
      ],
      "metadata": {
        "colab": {
          "base_uri": "https://localhost:8080/"
        },
        "id": "miVEdrO-avCo",
        "outputId": "410b7b1b-ea77-43cf-919f-da55d18fc5d8"
      },
      "execution_count": 8,
      "outputs": [
        {
          "output_type": "stream",
          "name": "stdout",
          "text": [
            "Enter first number2\n",
            "Enter second number4\n",
            "Enter third number3\n",
            "2 is minimum\n"
          ]
        }
      ]
    },
    {
      "cell_type": "code",
      "source": [
        "#max of three numbers\n",
        "a =int(input(\"Enter first number\"))\n",
        "b =int(input(\"Enter second number\"))\n",
        "c =int(input(\"Enter third number\"))\n",
        "\n",
        "if(a>b and a>c):\n",
        "    print(a,\"is maximum\")\n",
        "if(b>a and b>c):\n",
        "    print(b,\"is maximum\")\n",
        "if(c>a and c>b):\n",
        "    print(c,\"is maximum\")\n",
        "\n"
      ],
      "metadata": {
        "colab": {
          "base_uri": "https://localhost:8080/"
        },
        "id": "iBZ7c64eb0Wt",
        "outputId": "0d1ca81f-a12e-4857-cdc1-995116969d76"
      },
      "execution_count": 9,
      "outputs": [
        {
          "output_type": "stream",
          "name": "stdout",
          "text": [
            "Enter first number3\n",
            "Enter second number2\n",
            "Enter third number4\n",
            "4 is maximum\n"
          ]
        }
      ]
    },
    {
      "cell_type": "code",
      "source": [
        "# moduls in python\n",
        "#math , keywords, random, datetime\n",
        "import math\n",
        "print(math.sqrt(25))\n",
        "print(math.factorial(5))\n",
        "print(math.pow(2,3))\n",
        "math.pi"
      ],
      "metadata": {
        "colab": {
          "base_uri": "https://localhost:8080/"
        },
        "id": "EeHG56Orb-9k",
        "outputId": "3ea3fdee-4b7e-42ff-cc07-da7dc43897c4"
      },
      "execution_count": 14,
      "outputs": [
        {
          "output_type": "stream",
          "name": "stdout",
          "text": [
            "5.0\n",
            "120\n",
            "8.0\n"
          ]
        },
        {
          "output_type": "execute_result",
          "data": {
            "text/plain": [
              "3.141592653589793"
            ]
          },
          "metadata": {},
          "execution_count": 14
        }
      ]
    },
    {
      "cell_type": "code",
      "source": [
        "import keyword\n",
        "print(keyword.kwlist)\n"
      ],
      "metadata": {
        "colab": {
          "base_uri": "https://localhost:8080/"
        },
        "id": "CBrdzmYpculS",
        "outputId": "7adc64e9-5024-4953-9eaa-93f62b7b07c8"
      },
      "execution_count": 18,
      "outputs": [
        {
          "output_type": "stream",
          "name": "stdout",
          "text": [
            "['False', 'None', 'True', 'and', 'as', 'assert', 'async', 'await', 'break', 'class', 'continue', 'def', 'del', 'elif', 'else', 'except', 'finally', 'for', 'from', 'global', 'if', 'import', 'in', 'is', 'lambda', 'nonlocal', 'not', 'or', 'pass', 'raise', 'return', 'try', 'while', 'with', 'yield']\n"
          ]
        }
      ]
    },
    {
      "cell_type": "code",
      "source": [
        "import random\n",
        "print(random.randint(1,100))"
      ],
      "metadata": {
        "colab": {
          "base_uri": "https://localhost:8080/"
        },
        "id": "o_p8mRe0dCp8",
        "outputId": "ec0cc1db-f924-4714-eec3-868c70bc02e8"
      },
      "execution_count": 19,
      "outputs": [
        {
          "output_type": "stream",
          "name": "stdout",
          "text": [
            "28\n"
          ]
        }
      ]
    },
    {
      "cell_type": "code",
      "source": [
        "import datetime\n",
        "print(datetime.datetime.now())\n"
      ],
      "metadata": {
        "colab": {
          "base_uri": "https://localhost:8080/"
        },
        "id": "_vK57UhndT42",
        "outputId": "9e67c047-1d5d-4860-a559-0018d718d215"
      },
      "execution_count": 20,
      "outputs": [
        {
          "output_type": "stream",
          "name": "stdout",
          "text": [
            "2025-07-02 14:06:47.305354\n"
          ]
        }
      ]
    },
    {
      "cell_type": "code",
      "source": [
        "#help(\"modules\")"
      ],
      "metadata": {
        "id": "hJTXhlBldiHS"
      },
      "execution_count": 23,
      "outputs": []
    },
    {
      "cell_type": "code",
      "source": [
        "#loops in python\n",
        "#need for loops\n",
        "#while loop\n",
        "#for loop\n",
        "\n",
        "number = int(input(\"Enter the number\"))\n",
        "i=1\n",
        "while(i < 11):\n",
        "    print(number, \"*\",i,'=',i*number)\n",
        "    i +=1"
      ],
      "metadata": {
        "colab": {
          "base_uri": "https://localhost:8080/"
        },
        "id": "4Xcjdl9vd5Di",
        "outputId": "b151efb5-5f59-4cef-fd7e-125224d76870"
      },
      "execution_count": 30,
      "outputs": [
        {
          "output_type": "stream",
          "name": "stdout",
          "text": [
            "Enter the number3\n",
            "3 * 1 = 3\n",
            "3 * 2 = 6\n",
            "3 * 3 = 9\n",
            "3 * 4 = 12\n",
            "3 * 5 = 15\n",
            "3 * 6 = 18\n",
            "3 * 7 = 21\n",
            "3 * 8 = 24\n",
            "3 * 9 = 27\n",
            "3 * 10 = 30\n"
          ]
        }
      ]
    },
    {
      "cell_type": "code",
      "source": [
        "#guessing game\n",
        "\n",
        "#import random int between 1 and 100\n",
        "import random\n",
        "jackport= random.randint(1,100)\n",
        "counter =1\n",
        "guess = int(input(\"Guess the number\"))\n",
        "while guess != jackport:\n",
        "   if guess < jackport:\n",
        "    print(\"Guess higher\")\n",
        "   else:\n",
        "    print(\"guess lower\")\n",
        "\n",
        "   guess = int(input(\"Guess the number\"))\n",
        "   counter +=1\n",
        "else:\n",
        "    print(\"you win\")\n",
        "    print(counter,\"attempts\")"
      ],
      "metadata": {
        "colab": {
          "base_uri": "https://localhost:8080/",
          "height": 825
        },
        "id": "PshP5P93gacM",
        "outputId": "d06f33ac-fde3-4f9b-87c3-51707018ff62"
      },
      "execution_count": 2,
      "outputs": [
        {
          "output_type": "stream",
          "name": "stdout",
          "text": [
            "Guess the number33\n",
            "Guess higher\n",
            "Guess the number22\n",
            "Guess higher\n",
            "Guess the number11\n",
            "Guess higher\n",
            "Guess the number22\n",
            "Guess higher\n",
            "Guess the number1\n",
            "Guess higher\n",
            "Guess the number55\n",
            "guess lower\n",
            "Guess the number44\n",
            "Guess higher\n",
            "Guess the number33\n",
            "Guess higher\n",
            "Guess the number56\n",
            "guess lower\n",
            "Guess the number55\n",
            "guess lower\n",
            "Guess the number54\n",
            "guess lower\n",
            "Guess the number40\n",
            "Guess higher\n",
            "Guess the number47\n",
            "guess lower\n"
          ]
        },
        {
          "output_type": "error",
          "ename": "KeyboardInterrupt",
          "evalue": "Interrupted by user",
          "traceback": [
            "\u001b[0;31m---------------------------------------------------------------------------\u001b[0m",
            "\u001b[0;31mKeyboardInterrupt\u001b[0m                         Traceback (most recent call last)",
            "\u001b[0;32m/tmp/ipython-input-2-989608290.py\u001b[0m in \u001b[0;36m<cell line: 0>\u001b[0;34m()\u001b[0m\n\u001b[1;32m     12\u001b[0m     \u001b[0mprint\u001b[0m\u001b[0;34m(\u001b[0m\u001b[0;34m\"guess lower\"\u001b[0m\u001b[0;34m)\u001b[0m\u001b[0;34m\u001b[0m\u001b[0;34m\u001b[0m\u001b[0m\n\u001b[1;32m     13\u001b[0m \u001b[0;34m\u001b[0m\u001b[0m\n\u001b[0;32m---> 14\u001b[0;31m    \u001b[0mguess\u001b[0m \u001b[0;34m=\u001b[0m \u001b[0mint\u001b[0m\u001b[0;34m(\u001b[0m\u001b[0minput\u001b[0m\u001b[0;34m(\u001b[0m\u001b[0;34m\"Guess the number\"\u001b[0m\u001b[0;34m)\u001b[0m\u001b[0;34m)\u001b[0m\u001b[0;34m\u001b[0m\u001b[0;34m\u001b[0m\u001b[0m\n\u001b[0m\u001b[1;32m     15\u001b[0m    \u001b[0mcounter\u001b[0m \u001b[0;34m+=\u001b[0m\u001b[0;36m1\u001b[0m\u001b[0;34m\u001b[0m\u001b[0;34m\u001b[0m\u001b[0m\n\u001b[1;32m     16\u001b[0m \u001b[0;32melse\u001b[0m\u001b[0;34m:\u001b[0m\u001b[0;34m\u001b[0m\u001b[0;34m\u001b[0m\u001b[0m\n",
            "\u001b[0;32m/usr/local/lib/python3.11/dist-packages/ipykernel/kernelbase.py\u001b[0m in \u001b[0;36mraw_input\u001b[0;34m(self, prompt)\u001b[0m\n\u001b[1;32m   1175\u001b[0m                 \u001b[0;34m\"raw_input was called, but this frontend does not support input requests.\"\u001b[0m\u001b[0;34m\u001b[0m\u001b[0;34m\u001b[0m\u001b[0m\n\u001b[1;32m   1176\u001b[0m             )\n\u001b[0;32m-> 1177\u001b[0;31m         return self._input_request(\n\u001b[0m\u001b[1;32m   1178\u001b[0m             \u001b[0mstr\u001b[0m\u001b[0;34m(\u001b[0m\u001b[0mprompt\u001b[0m\u001b[0;34m)\u001b[0m\u001b[0;34m,\u001b[0m\u001b[0;34m\u001b[0m\u001b[0;34m\u001b[0m\u001b[0m\n\u001b[1;32m   1179\u001b[0m             \u001b[0mself\u001b[0m\u001b[0;34m.\u001b[0m\u001b[0m_parent_ident\u001b[0m\u001b[0;34m[\u001b[0m\u001b[0;34m\"shell\"\u001b[0m\u001b[0;34m]\u001b[0m\u001b[0;34m,\u001b[0m\u001b[0;34m\u001b[0m\u001b[0;34m\u001b[0m\u001b[0m\n",
            "\u001b[0;32m/usr/local/lib/python3.11/dist-packages/ipykernel/kernelbase.py\u001b[0m in \u001b[0;36m_input_request\u001b[0;34m(self, prompt, ident, parent, password)\u001b[0m\n\u001b[1;32m   1217\u001b[0m             \u001b[0;32mexcept\u001b[0m \u001b[0mKeyboardInterrupt\u001b[0m\u001b[0;34m:\u001b[0m\u001b[0;34m\u001b[0m\u001b[0;34m\u001b[0m\u001b[0m\n\u001b[1;32m   1218\u001b[0m                 \u001b[0;31m# re-raise KeyboardInterrupt, to truncate traceback\u001b[0m\u001b[0;34m\u001b[0m\u001b[0;34m\u001b[0m\u001b[0m\n\u001b[0;32m-> 1219\u001b[0;31m                 \u001b[0;32mraise\u001b[0m \u001b[0mKeyboardInterrupt\u001b[0m\u001b[0;34m(\u001b[0m\u001b[0;34m\"Interrupted by user\"\u001b[0m\u001b[0;34m)\u001b[0m \u001b[0;32mfrom\u001b[0m \u001b[0;32mNone\u001b[0m\u001b[0;34m\u001b[0m\u001b[0;34m\u001b[0m\u001b[0m\n\u001b[0m\u001b[1;32m   1220\u001b[0m             \u001b[0;32mexcept\u001b[0m \u001b[0mException\u001b[0m\u001b[0;34m:\u001b[0m\u001b[0;34m\u001b[0m\u001b[0;34m\u001b[0m\u001b[0m\n\u001b[1;32m   1221\u001b[0m                 \u001b[0mself\u001b[0m\u001b[0;34m.\u001b[0m\u001b[0mlog\u001b[0m\u001b[0;34m.\u001b[0m\u001b[0mwarning\u001b[0m\u001b[0;34m(\u001b[0m\u001b[0;34m\"Invalid Message:\"\u001b[0m\u001b[0;34m,\u001b[0m \u001b[0mexc_info\u001b[0m\u001b[0;34m=\u001b[0m\u001b[0;32mTrue\u001b[0m\u001b[0;34m)\u001b[0m\u001b[0;34m\u001b[0m\u001b[0;34m\u001b[0m\u001b[0m\n",
            "\u001b[0;31mKeyboardInterrupt\u001b[0m: Interrupted by user"
          ]
        }
      ]
    },
    {
      "cell_type": "code",
      "source": [
        "  #for loop\n",
        "\n",
        "for i in range(1,11,2):\n",
        "    print(i)"
      ],
      "metadata": {
        "colab": {
          "base_uri": "https://localhost:8080/"
        },
        "id": "5zwHMYFmjzen",
        "outputId": "a9a4f7a8-21f0-4d27-e62b-d73a2c4fe8c2"
      },
      "execution_count": 4,
      "outputs": [
        {
          "output_type": "stream",
          "name": "stdout",
          "text": [
            "1\n",
            "3\n",
            "5\n",
            "7\n",
            "9\n"
          ]
        }
      ]
    },
    {
      "cell_type": "code",
      "source": [
        "for i in range ( 10,0,-2):\n",
        "    print(i)"
      ],
      "metadata": {
        "colab": {
          "base_uri": "https://localhost:8080/"
        },
        "id": "eTRLJRyKl8NO",
        "outputId": "d1dc4ccc-f9d3-49ee-bf51-fcebe89ef584"
      },
      "execution_count": 7,
      "outputs": [
        {
          "output_type": "stream",
          "name": "stdout",
          "text": [
            "10\n",
            "8\n",
            "6\n",
            "4\n",
            "2\n"
          ]
        }
      ]
    },
    {
      "cell_type": "code",
      "source": [
        "curr_pop = 10000\n",
        "\n",
        "for i in range(10,0,-1):\n",
        "    print(i,curr_pop)\n",
        "    curr_pop = curr_pop - 0.1*curr_pop"
      ],
      "metadata": {
        "colab": {
          "base_uri": "https://localhost:8080/"
        },
        "id": "uKd8joYtmWca",
        "outputId": "1b39a587-efb2-4a3d-c670-899027927019"
      },
      "execution_count": 9,
      "outputs": [
        {
          "output_type": "stream",
          "name": "stdout",
          "text": [
            "10 10000\n",
            "9 9000.0\n",
            "8 8100.0\n",
            "7 7290.0\n",
            "6 6561.0\n",
            "5 5904.9\n",
            "4 5314.41\n",
            "3 4782.969\n",
            "2 4304.6721\n",
            "1 3874.20489\n"
          ]
        }
      ]
    },
    {
      "cell_type": "code",
      "source": [],
      "metadata": {
        "id": "O9p6Ts-CnDAN"
      },
      "execution_count": null,
      "outputs": []
    }
  ]
}