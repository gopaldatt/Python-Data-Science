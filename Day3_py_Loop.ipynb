{
  "nbformat": 4,
  "nbformat_minor": 0,
  "metadata": {
    "colab": {
      "provenance": []
    },
    "kernelspec": {
      "name": "python3",
      "display_name": "Python 3"
    },
    "language_info": {
      "name": "python"
    }
  },
  "cells": [
    {
      "cell_type": "code",
      "execution_count": null,
      "metadata": {
        "id": "O3vl4g0Fn8vy",
        "colab": {
          "base_uri": "https://localhost:8080/"
        },
        "outputId": "131f7386-3aee-47cc-a461-f848f5398568"
      },
      "outputs": [
        {
          "output_type": "stream",
          "name": "stdout",
          "text": [
            "Enter n 5\n",
            "2.708333333333333\n"
          ]
        }
      ],
      "source": [
        "#sequence sum\n",
        "#1/1! + 2/2! + 3/3!.....................\n",
        "\n",
        "n = int(input(\"Enter n \"))\n",
        "result=0\n",
        "fact=1\n",
        "\n",
        "for i in range(1, n+1):\n",
        "    fact=fact*i\n",
        "    result=result+(i/fact)\n",
        "print(result)"
      ]
    },
    {
      "cell_type": "code",
      "source": [
        "# Nested loops\n",
        "for i in range(1,5):\n",
        "    for j in range(1,5):\n",
        "        print(i,j)"
      ],
      "metadata": {
        "colab": {
          "base_uri": "https://localhost:8080/"
        },
        "id": "u5600LxSDVOW",
        "outputId": "111285e3-ab02-4f39-cbc9-0252759a8394"
      },
      "execution_count": null,
      "outputs": [
        {
          "output_type": "stream",
          "name": "stdout",
          "text": [
            "1 1\n",
            "1 2\n",
            "1 3\n",
            "1 4\n",
            "2 1\n",
            "2 2\n",
            "2 3\n",
            "2 4\n",
            "3 1\n",
            "3 2\n",
            "3 3\n",
            "3 4\n",
            "4 1\n",
            "4 2\n",
            "4 3\n",
            "4 4\n"
          ]
        }
      ]
    },
    {
      "cell_type": "code",
      "source": [
        "#pattern 1\n",
        "# *\n",
        "# * *\n",
        "# * * *\n",
        "# * * * *\n",
        "row = int(input(\"Enter number of rows \"))\n",
        "\n",
        "for i in range(1, row+1):\n",
        "    for j in range(1, i+1):\n",
        "        print(\"*\", end=\" \")\n",
        "    print()"
      ],
      "metadata": {
        "colab": {
          "base_uri": "https://localhost:8080/"
        },
        "id": "lWG8hV1fEf7l",
        "outputId": "4872e329-5cbd-470d-d71c-994ff8652179"
      },
      "execution_count": null,
      "outputs": [
        {
          "output_type": "stream",
          "name": "stdout",
          "text": [
            "Enter number of rows 4\n",
            "* \n",
            "* * \n",
            "* * * \n",
            "* * * * \n"
          ]
        }
      ]
    },
    {
      "cell_type": "code",
      "source": [
        "#pattern 2\n",
        "row = int(input(\"Enter number of rows \"))\n",
        "\n",
        "for i in range(row, 1,-1):\n",
        "    for j in range(i,1,-1):\n",
        "        print(\"*\", end=\" \")\n",
        "    print()"
      ],
      "metadata": {
        "colab": {
          "base_uri": "https://localhost:8080/"
        },
        "id": "dZCNVRgCFLuJ",
        "outputId": "ac1f8997-c5ca-428b-c1a6-14006532f4ec"
      },
      "execution_count": null,
      "outputs": [
        {
          "output_type": "stream",
          "name": "stdout",
          "text": [
            "Enter number of rows 5\n",
            "* * * * \n",
            "* * * \n",
            "* * \n",
            "* \n"
          ]
        }
      ]
    },
    {
      "cell_type": "code",
      "source": [
        "#pattern 3\n",
        "\n",
        "row = int(input(\"Enter number of rows \"))\n",
        "\n",
        "for i in range(1, row+1):\n",
        "    for j in range(1, i+1):\n",
        "        print(j, end=\" \")\n",
        "    for k in range(i-1,0,-1):\n",
        "        print(k, end=\" \")\n",
        "    print()"
      ],
      "metadata": {
        "colab": {
          "base_uri": "https://localhost:8080/"
        },
        "id": "EkVDtW_gFo3x",
        "outputId": "2d077bff-38b7-42bf-a244-1be0cf2763ed"
      },
      "execution_count": null,
      "outputs": [
        {
          "output_type": "stream",
          "name": "stdout",
          "text": [
            "Enter number of rows 5\n",
            "1 \n",
            "1 2 1 \n",
            "1 2 3 2 1 \n",
            "1 2 3 4 3 2 1 \n",
            "1 2 3 4 5 4 3 2 1 \n"
          ]
        }
      ]
    },
    {
      "cell_type": "code",
      "source": [
        "for i in range(1,10):\n",
        "    print(i)\n",
        "    if i==5:\n",
        "        break"
      ],
      "metadata": {
        "colab": {
          "base_uri": "https://localhost:8080/"
        },
        "id": "rQdYcdyfGy5V",
        "outputId": "38a9d795-aef0-49c9-ce61-d78e7d81acc6"
      },
      "execution_count": null,
      "outputs": [
        {
          "output_type": "stream",
          "name": "stdout",
          "text": [
            "1\n",
            "2\n",
            "3\n",
            "4\n",
            "5\n"
          ]
        }
      ]
    },
    {
      "cell_type": "code",
      "source": [
        "lower = int(input(\"Enter lower range \"))\n",
        "upper = int(input(\"Enter upper range \"))\n",
        "\n",
        "for i in range(lower, upper+1):\n",
        "    if i>1:\n",
        "        for j in range(2,i):\n",
        "            if i%j==0:\n",
        "                break\n",
        "        else:\n",
        "            print(i)"
      ],
      "metadata": {
        "colab": {
          "base_uri": "https://localhost:8080/"
        },
        "id": "qbRFKr-mHoTY",
        "outputId": "68bc8f4f-1c21-47d2-ef38-20bfd8136be1"
      },
      "execution_count": null,
      "outputs": [
        {
          "output_type": "stream",
          "name": "stdout",
          "text": [
            "Enter lower range 10\n",
            "Enter upper range 100\n",
            "11\n",
            "13\n",
            "17\n",
            "19\n",
            "23\n",
            "29\n",
            "31\n",
            "37\n",
            "41\n",
            "43\n",
            "47\n",
            "53\n",
            "59\n",
            "61\n",
            "67\n",
            "71\n",
            "73\n",
            "79\n",
            "83\n",
            "89\n",
            "97\n"
          ]
        }
      ]
    },
    {
      "cell_type": "code",
      "source": [
        "#continue\n",
        "for i in range(1,10):\n",
        "    if i==5:\n",
        "        continue\n",
        "    print(i)"
      ],
      "metadata": {
        "colab": {
          "base_uri": "https://localhost:8080/"
        },
        "id": "IiCSSveoIYrT",
        "outputId": "95029618-8ed7-49b1-9c07-f93e7a957e34"
      },
      "execution_count": null,
      "outputs": [
        {
          "output_type": "stream",
          "name": "stdout",
          "text": [
            "1\n",
            "2\n",
            "3\n",
            "4\n",
            "6\n",
            "7\n",
            "8\n",
            "9\n"
          ]
        }
      ]
    },
    {
      "cell_type": "code",
      "source": [
        "for i in range(1,20):\n",
        "    pass\n"
      ],
      "metadata": {
        "id": "WvkDGNDMKjgf"
      },
      "execution_count": null,
      "outputs": []
    },
    {
      "cell_type": "code",
      "source": [],
      "metadata": {
        "id": "_a7FrCZNKtEh"
      },
      "execution_count": null,
      "outputs": []
    }
  ]
}