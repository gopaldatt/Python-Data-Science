{
  "nbformat": 4,
  "nbformat_minor": 0,
  "metadata": {
    "colab": {
      "provenance": []
    },
    "kernelspec": {
      "name": "python3",
      "display_name": "Python 3"
    },
    "language_info": {
      "name": "python"
    }
  },
  "cells": [
    {
      "cell_type": "code",
      "execution_count": 13,
      "metadata": {
        "colab": {
          "base_uri": "https://localhost:8080/"
        },
        "id": "tNEOasuqaKkA",
        "outputId": "5b047b63-fc77-4464-adb8-6c5e08014216"
      },
      "outputs": [
        {
          "output_type": "stream",
          "name": "stdout",
          "text": [
            "hello\n",
            "rahul\n",
            "rahul 20 cse graphic era\n",
            "20\n",
            "cse\n",
            "graphic era\n"
          ]
        }
      ],
      "source": [
        "# static method\n",
        "\n",
        "\n",
        "class Student:\n",
        "    college = \"graphic era\"\n",
        "    def __init__(self,name ,ege,branch):\n",
        "        self.name = name\n",
        "        self.ege = ege\n",
        "        self.branch = branch\n",
        "    def getdata(self):\n",
        "        print(self.name,self.ege,self.branch,self.college)\n",
        "\n",
        "\n",
        "    @staticmethod    # decoretor of function\n",
        "\n",
        "    def Hello():\n",
        "        print(\"hello\")\n",
        "\n",
        "\n",
        "s1=Student(\"rahul\",20,\"cse\")\n",
        "s1.Hello()\n",
        "print(s1.name)\n",
        "s1.getdata()\n",
        "print(s1.ege)\n",
        "print(s1.branch)\n",
        "print(s1.college)\n"
      ]
    },
    {
      "cell_type": "code",
      "source": [
        "# i read thoeory part of ooops\n",
        "# like - Abstraction , encapsulation etc\n",
        "\n",
        "\n",
        "\n"
      ],
      "metadata": {
        "id": "IXiqRC4eaxJL"
      },
      "execution_count": 14,
      "outputs": []
    },
    {
      "cell_type": "code",
      "source": [
        "class Car:\n",
        "\n",
        "    def __init__(self):\n",
        "\n",
        "        self.acc=False\n",
        "        self.brk=False\n",
        "        self.cluch=False\n",
        "        self.gear=False\n",
        "\n",
        "    def Start(self):\n",
        "\n",
        "\n",
        "        self.acc=True\n",
        "        self.brk=True\n",
        "        self.cluch=True\n",
        "        self.gear=True\n",
        "        print(\"car is start\")\n",
        "\n",
        "\n",
        "c = Car()\n",
        "c.Start()\n"
      ],
      "metadata": {
        "colab": {
          "base_uri": "https://localhost:8080/"
        },
        "id": "g37GLD53c8R_",
        "outputId": "dadc1628-73fe-42d7-ef46-21e350b6fcfc"
      },
      "execution_count": 19,
      "outputs": [
        {
          "output_type": "stream",
          "name": "stdout",
          "text": [
            "car is start\n"
          ]
        }
      ]
    },
    {
      "cell_type": "code",
      "source": [
        "class Accounts:\n",
        "    def __init__(self,bal,acc):\n",
        "        self.bal=bal\n",
        "        self.acc=acc\n",
        "\n",
        "    #debit method\n",
        "    def debit(self, amount):\n",
        "        self.bal -= amount\n",
        "        print(\"Rs. \",self.bal,\" was debited\")\n",
        "        print(\"total balance \",self.get_balance())\n",
        "\n",
        "    #credit method\n",
        "    def credit(self, amount):\n",
        "        self.bal += amount\n",
        "        print(self.bal)\n",
        "        print(\"Rs. \",self.bal,\" was creadit\")\n",
        "\n",
        "    def get_balance(self):\n",
        "        return self.bal\n",
        "\n",
        "acc1=Accounts(10000,2313)\n",
        "print(acc1.get_balance())\n",
        "acc1.credit(1000)\n",
        "acc1.debit(100)"
      ],
      "metadata": {
        "colab": {
          "base_uri": "https://localhost:8080/"
        },
        "id": "y-5Fl8QwdEvU",
        "outputId": "78695bbd-c440-40b4-ea7c-3021fa1e66d6"
      },
      "execution_count": 21,
      "outputs": [
        {
          "output_type": "stream",
          "name": "stdout",
          "text": [
            "10000\n",
            "11000\n",
            "Rs.  11000  was creadit\n",
            "Rs.  10900  was debited\n",
            "total balance  10900\n"
          ]
        }
      ]
    },
    {
      "cell_type": "code",
      "source": [
        "\n"
      ],
      "metadata": {
        "id": "P1bERvyzeRcN"
      },
      "execution_count": null,
      "outputs": []
    }
  ]
}